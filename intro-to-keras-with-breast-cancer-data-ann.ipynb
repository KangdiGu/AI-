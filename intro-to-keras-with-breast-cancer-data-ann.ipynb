{
 "cells": [
  {
   "cell_type": "markdown",
   "metadata": {
    "_cell_guid": "b1076dfc-b9ad-4769-8c92-a6c4dae69d19",
    "_uuid": "8f2839f25d086af736a60e9eeb907d3b93b6e0e5"
   },
   "source": [
    "# Aim\n",
    "This is a small yet useful kernel for providing an introduction to **Artificial Neural Networks** for people who want to begin their journey into the field of **deep learning**. For this, I have used Keras which is a high-level Neural Networks API built on top of low level neural networks APIs like Tensorflow and Theano. As it is high-level, many things are already taken care of therefore it is easy to work with and a great tool to start with. [Here's the documentation for keras](https://keras.io/)\n",
    "\n",
    "# What is Deep learning?\n",
    "Deep Learning is a subfield of machine learning concerned with algorithms inspired by the structure and function of the brain called artificial neural networks. Deep learning is a machine learning technique that teaches computers to do what comes naturally to humans: learn by example. Deep learning is a key technology behind driverless cars, enabling them to recognize a stop sign, or to distinguish a pedestrian from a lamppost. It is the key to voice control in consumer devices like phones, tablets, TVs, and hands-free speakers. Deep learning is getting lots of attention lately and for good reason. It’s achieving results that were not possible before.\n",
    "\n",
    "\n",
    "# What are artificial neural networks?\n",
    "An artificial neuron network (ANN) is a computational model based on the structure and functions of biological neural networks. Information that flows through the network affects the structure of the ANN because a neural network changes - or learns, in a sense - based on that input and output. ANNs are considered nonlinear statistical data modeling tools where the complex relationships between inputs and outputs are modeled or patterns are found. ANN is also known as a neural network.\n"
   ]
  },
  {
   "cell_type": "markdown",
   "metadata": {
    "_cell_guid": "79c7e3d0-c299-4dcb-8224-4455121ee9b0",
    "_uuid": "d629ff2d2480ee46fbb7e2d37f6b5fab8052498a",
    "collapsed": true
   },
   "source": [
    "<img src=\"https://cdn-images-1.medium.com/max/1000/1*ZX05x1xYgaVoa4Vn2kKS9g.png\">"
   ]
  },
  {
   "cell_type": "markdown",
   "metadata": {
    "_cell_guid": "17fa9862-de9f-4964-a688-fe9e666f0fd5",
    "_uuid": "5a1835cc73f103d85fe770ff84e0afae99ba692f"
   },
   "source": [
    "A single neuron is known as a perceptron. It consists of a layer of inputs(corresponds to columns of a dataframe). Each input has a weight which controls the magnitude of an input.\n",
    "The summation of the products of these input values and weights is fed to the activation function. Activation functions are really important for a Artificial Neural Network to learn and make sense of something really complicated and Non-linear complex functional mappings between the inputs and response variable. \n",
    "\n",
    "They introduce non-linear properties to our Network.Their main purpose is to convert a input signal of a node in a A-NN to an output signal. That output signal now is used as a input in the next layer in the stack.  Specifically in A-NN we do the sum of products of inputs(X) and their corresponding Weights(W) and apply a Activation function f(x) to it to get the output of that layer and feed it as an input to the next layer. [Refer to this article for more info.](https://towardsdatascience.com/activation-functions-and-its-types-which-is-better-a9a5310cc8f)\n",
    "<img src=\"https://cdnpythonmachinelearning.azureedge.net/wp-content/uploads/2017/09/Single-Perceptron.png\">\n",
    "**Concept of backpropagation** - Backpropagation, short for \"backward propagation of errors,\" is an algorithm for supervised learning of artificial neural networks using gradient descent. Given an artificial neural network and an error function, the method calculates the gradient of the error function with respect to the neural network's weights. It is a generalization of the delta rule for perceptrons to multilayer feedforward neural networks.\n",
    "<img src=\"https://www.researchgate.net/profile/Hassan_Al-Haj_Ibrahim/publication/235338024/figure/fig6/AS:299794191929349@1448487913220/Flow-chart-for-the-back-propagation-BP-learning-algorithm.png\">\n",
    "**Gradient Descent** - To explain Gradient Descent I’ll use the classic mountaineering example. Suppose you are at the top of a mountain, and you have to reach a lake which is at the lowest point of the mountain (a.k.a valley). A twist is that you are blindfolded and you have zero visibility to see where you are headed. So, what approach will you take to reach the lake? The best way is to check the ground near you and observe where the land tends to descend. This will give an idea in what direction you should take your first step. If you follow the descending path, it is very likely you would reach the lake. [Refer to this article for more information.](https://www.analyticsvidhya.com/blog/2017/03/introduction-to-gradient-descent-algorithm-along-its-variants/)"
   ]
  },
  {
   "cell_type": "markdown",
   "metadata": {
    "_cell_guid": "0de730e5-6631-4d4f-882e-4c34b4a0c37a",
    "_uuid": "e43e4e6f84cb95700e1d05f07f20fb740bcdfd31"
   },
   "source": [
    "About Breast Cancer Wisconsin (Diagnostic) Data Set\n",
    "Features are computed from a digitized image of a fine needle aspirate (FNA) of a breast mass. They describe characteristics of the cell nuclei present in the image. n the 3-dimensional space is that described in: [K. P. Bennett and O. L. Mangasarian: \"Robust Linear Programming Discrimination of Two Linearly Inseparable Sets\", Optimization Methods and Software 1, 1992, 23-34].\n",
    "\n",
    "This database is also available through the UW CS ftp server: ftp ftp.cs.wisc.edu cd math-prog/cpo-dataset/machine-learn/WDBC/\n",
    "\n",
    "Also can be found on UCI Machine Learning Repository: https://archive.ics.uci.edu/ml/datasets/Breast+Cancer+Wisconsin+%28Diagnostic%29\n",
    "\n",
    "Attribute Information:\n",
    "\n",
    "1) ID number 2) Diagnosis (M = malignant, B = benign) 3-32)\n",
    "\n",
    "Ten real-valued features are computed for each cell nucleus:\n",
    "\n",
    "a) radius (mean of distances from center to points on the perimeter) b) texture (standard deviation of gray-scale values) c) perimeter d) area e) smoothness (local variation in radius lengths) f) compactness (perimeter^2 / area - 1.0) g) concavity (severity of concave portions of the contour) h) concave points (number of concave portions of the contour) i) symmetry j) fractal dimension (\"coastline approximation\" - 1)\n",
    "\n",
    "The mean, standard error and \"worst\" or largest (mean of the three largest values) of these features were computed for each image, resulting in 30 features. For instance, field 3 is Mean Radius, field 13 is Radius SE, field 23 is Worst Radius.\n",
    "\n",
    "All feature values are recoded with four significant digits.\n",
    "\n",
    "Missing attribute values: none\n",
    "\n",
    "Class distribution: 357 benign, 212 malignant"
   ]
  },
  {
   "cell_type": "code",
   "execution_count": 1,
   "metadata": {
    "_cell_guid": "466b1182-f052-4452-abb5-4fbe3cd92095",
    "_uuid": "6f747b567b4b89f9aaa48e503ddddabf214cb278"
   },
   "outputs": [],
   "source": [
    "# Importing libraries\n",
    "import pandas as pd\n",
    "import numpy as np\n",
    "import matplotlib.pyplot as plt\n",
    "import seaborn as sns\n",
    "\n",
    "# Importing data\n",
    "data = pd.read_csv('E:/input/data.csv')\n",
    "del data['Unnamed: 32']                      #######删掉噪声"
   ]
  },
  {
   "cell_type": "code",
   "execution_count": 2,
   "metadata": {
    "_cell_guid": "962b3671-f704-438d-bd54-931767e877cf",
    "_uuid": "f6af18d53dcaabb44c49b50c13ba3dafe7bbae10"
   },
   "outputs": [],
   "source": [
    "X = data.iloc[:, 2:].values                 #######拆分特征和标签\n",
    "y = data.iloc[:, 1].values\n",
    "\n",
    "# Encoding categorical data\n",
    "from sklearn.preprocessing import LabelEncoder\n",
    "labelencoder_X_1 = LabelEncoder()              ##########将字母标签转为数字形式\n",
    "y = labelencoder_X_1.fit_transform(y)\n",
    "\n",
    "\n",
    "# Splitting the dataset into the Training set and Test set\n",
    "from sklearn.model_selection import train_test_split\n",
    "X_train, X_test, y_train, y_test = train_test_split(X, y, test_size = 0.1, random_state = 0)\n",
    "\n",
    "#Feature Scaling\n",
    "from sklearn.preprocessing import StandardScaler\n",
    "sc = StandardScaler()\n",
    "X_train = sc.fit_transform(X_train)       #fit_transform()的作用就是先拟合数据，然后转化它将其转化为标准形式。\n",
    "X_test = sc.transform(X_test)             #已经找到了转换规则，我们把这个规则利用在训练集上，同样，我们可以直接将其运用到测试集上"
   ]
  },
  {
   "cell_type": "markdown",
   "metadata": {
    "_cell_guid": "a0d8f2ca-a51c-44e5-9399-345ec7f36509",
    "_uuid": "d9f057a42b57df5d2ad73b20fc6d81b5e33628e9"
   },
   "source": [
    "**Now that we have prepared data, we will import Keras and its packages.**"
   ]
  },
  {
   "cell_type": "code",
   "execution_count": 3,
   "metadata": {
    "_cell_guid": "51ab3d86-d1fd-40b6-a463-012e24a5c0a0",
    "_uuid": "c01850e3c738b8a55146cce28e5f6fe82378032e",
    "scrolled": false
   },
   "outputs": [
    {
     "name": "stderr",
     "output_type": "stream",
     "text": [
      "Using TensorFlow backend.\n",
      "D:\\ProgramData\\Anaconda3\\lib\\site-packages\\tensorflow\\python\\framework\\dtypes.py:516: FutureWarning: Passing (type, 1) or '1type' as a synonym of type is deprecated; in a future version of numpy, it will be understood as (type, (1,)) / '(1,)type'.\n",
      "  _np_qint8 = np.dtype([(\"qint8\", np.int8, 1)])\n",
      "D:\\ProgramData\\Anaconda3\\lib\\site-packages\\tensorflow\\python\\framework\\dtypes.py:517: FutureWarning: Passing (type, 1) or '1type' as a synonym of type is deprecated; in a future version of numpy, it will be understood as (type, (1,)) / '(1,)type'.\n",
      "  _np_quint8 = np.dtype([(\"quint8\", np.uint8, 1)])\n",
      "D:\\ProgramData\\Anaconda3\\lib\\site-packages\\tensorflow\\python\\framework\\dtypes.py:518: FutureWarning: Passing (type, 1) or '1type' as a synonym of type is deprecated; in a future version of numpy, it will be understood as (type, (1,)) / '(1,)type'.\n",
      "  _np_qint16 = np.dtype([(\"qint16\", np.int16, 1)])\n",
      "D:\\ProgramData\\Anaconda3\\lib\\site-packages\\tensorflow\\python\\framework\\dtypes.py:519: FutureWarning: Passing (type, 1) or '1type' as a synonym of type is deprecated; in a future version of numpy, it will be understood as (type, (1,)) / '(1,)type'.\n",
      "  _np_quint16 = np.dtype([(\"quint16\", np.uint16, 1)])\n",
      "D:\\ProgramData\\Anaconda3\\lib\\site-packages\\tensorflow\\python\\framework\\dtypes.py:520: FutureWarning: Passing (type, 1) or '1type' as a synonym of type is deprecated; in a future version of numpy, it will be understood as (type, (1,)) / '(1,)type'.\n",
      "  _np_qint32 = np.dtype([(\"qint32\", np.int32, 1)])\n",
      "D:\\ProgramData\\Anaconda3\\lib\\site-packages\\tensorflow\\python\\framework\\dtypes.py:525: FutureWarning: Passing (type, 1) or '1type' as a synonym of type is deprecated; in a future version of numpy, it will be understood as (type, (1,)) / '(1,)type'.\n",
      "  np_resource = np.dtype([(\"resource\", np.ubyte, 1)])\n",
      "D:\\ProgramData\\Anaconda3\\lib\\site-packages\\tensorboard\\compat\\tensorflow_stub\\dtypes.py:541: FutureWarning: Passing (type, 1) or '1type' as a synonym of type is deprecated; in a future version of numpy, it will be understood as (type, (1,)) / '(1,)type'.\n",
      "  _np_qint8 = np.dtype([(\"qint8\", np.int8, 1)])\n",
      "D:\\ProgramData\\Anaconda3\\lib\\site-packages\\tensorboard\\compat\\tensorflow_stub\\dtypes.py:542: FutureWarning: Passing (type, 1) or '1type' as a synonym of type is deprecated; in a future version of numpy, it will be understood as (type, (1,)) / '(1,)type'.\n",
      "  _np_quint8 = np.dtype([(\"quint8\", np.uint8, 1)])\n",
      "D:\\ProgramData\\Anaconda3\\lib\\site-packages\\tensorboard\\compat\\tensorflow_stub\\dtypes.py:543: FutureWarning: Passing (type, 1) or '1type' as a synonym of type is deprecated; in a future version of numpy, it will be understood as (type, (1,)) / '(1,)type'.\n",
      "  _np_qint16 = np.dtype([(\"qint16\", np.int16, 1)])\n",
      "D:\\ProgramData\\Anaconda3\\lib\\site-packages\\tensorboard\\compat\\tensorflow_stub\\dtypes.py:544: FutureWarning: Passing (type, 1) or '1type' as a synonym of type is deprecated; in a future version of numpy, it will be understood as (type, (1,)) / '(1,)type'.\n",
      "  _np_quint16 = np.dtype([(\"quint16\", np.uint16, 1)])\n",
      "D:\\ProgramData\\Anaconda3\\lib\\site-packages\\tensorboard\\compat\\tensorflow_stub\\dtypes.py:545: FutureWarning: Passing (type, 1) or '1type' as a synonym of type is deprecated; in a future version of numpy, it will be understood as (type, (1,)) / '(1,)type'.\n",
      "  _np_qint32 = np.dtype([(\"qint32\", np.int32, 1)])\n",
      "D:\\ProgramData\\Anaconda3\\lib\\site-packages\\tensorboard\\compat\\tensorflow_stub\\dtypes.py:550: FutureWarning: Passing (type, 1) or '1type' as a synonym of type is deprecated; in a future version of numpy, it will be understood as (type, (1,)) / '(1,)type'.\n",
      "  np_resource = np.dtype([(\"resource\", np.ubyte, 1)])\n"
     ]
    }
   ],
   "source": [
    "import keras\n",
    "from keras.models import Sequential\n",
    "from keras.layers import Dense, Dropout"
   ]
  },
  {
   "cell_type": "code",
   "execution_count": 4,
   "metadata": {
    "_cell_guid": "5e19dee2-9602-42c9-bc3b-41d912e0aa1d",
    "_uuid": "f07a3637824959ff96269ff3806b994c4f64d117"
   },
   "outputs": [],
   "source": [
    "# Initialising the ANN\n",
    "classifier = Sequential()                        #建立顺序模型"
   ]
  },
  {
   "cell_type": "code",
   "execution_count": 5,
   "metadata": {
    "_cell_guid": "b1338309-a776-44b0-b04a-a8bdbf25d10e",
    "_uuid": "cce53ac057db311d8221c027afe2d286bf0a5b51"
   },
   "outputs": [
    {
     "name": "stderr",
     "output_type": "stream",
     "text": [
      "D:\\ProgramData\\Anaconda3\\lib\\site-packages\\ipykernel_launcher.py:2: UserWarning: Update your `Dense` call to the Keras 2 API: `Dense(activation=\"relu\", input_dim=30, units=16, kernel_initializer=\"uniform\")`\n",
      "  \n",
      "D:\\ProgramData\\Anaconda3\\lib\\site-packages\\ipykernel_launcher.py:4: UserWarning: Update your `Dropout` call to the Keras 2 API: `Dropout(rate=0.1)`\n",
      "  after removing the cwd from sys.path.\n"
     ]
    }
   ],
   "source": [
    "# Adding the input layer and the first hidden layer\n",
    "classifier.add(Dense(output_dim=16, init='uniform', activation='relu', input_dim=30))        #output_dim表示该层神经元是16个，'uniform'表示用均匀分布去初始化，activation代表激活函数，input_dim代表输入层特征个数\n",
    "# Adding dropout to prevent overfitting\n",
    "classifier.add(Dropout(p=0.1))                    #在隐藏层中删掉一些神经元，增加随机性，避免过拟合"
   ]
  },
  {
   "cell_type": "markdown",
   "metadata": {
    "_cell_guid": "dd954d81-d773-4e90-aaa3-34d1dcb99e68",
    "_uuid": "3d42817e7446a061dca811ea75ece45b15a4fdd9"
   },
   "source": [
    "input_dim - number of columns of the dataset \n",
    "\n",
    "output_dim - number of outputs to be fed to the next layer, if any\n",
    "\n",
    "activation - activation function which is ReLU in this case\n",
    "\n",
    "init - the way in which weights should be provided to an ANN\n",
    " \n",
    "The **ReLU** function is f(x)=max(0,x). Usually this is applied element-wise to the output of some other function, such as a matrix-vector product. In MLP usages, rectifier units replace all other activation functions except perhaps the readout layer. But I suppose you could mix-and-match them if you'd like. One way ReLUs improve neural networks is by speeding up training. The gradient computation is very simple (either 0 or 1 depending on the sign of x). Also, the computational step of a ReLU is easy: any negative elements are set to 0.0 -- no exponentials, no multiplication or division operations. Gradients of logistic and hyperbolic tangent networks are smaller than the positive portion of the ReLU. This means that the positive portion is updated more rapidly as training progresses. However, this comes at a cost. The 0 gradient on the left-hand side is has its own problem, called \"dead neurons,\" in which a gradient update sets the incoming values to a ReLU such that the output is always zero; modified ReLU units such as ELU (or Leaky ReLU etc.) can minimize this. Source : [StackExchange](https://stats.stackexchange.com/questions/226923/why-do-we-use-relu-in-neural-networks-and-how-do-we-use-it)"
   ]
  },
  {
   "cell_type": "code",
   "execution_count": 6,
   "metadata": {
    "_cell_guid": "7d6c2e16-5ffb-43b1-b238-c7434faa8808",
    "_uuid": "6105fb90265fdd6082648004657d55a43b187217"
   },
   "outputs": [
    {
     "name": "stderr",
     "output_type": "stream",
     "text": [
      "D:\\ProgramData\\Anaconda3\\lib\\site-packages\\ipykernel_launcher.py:2: UserWarning: Update your `Dense` call to the Keras 2 API: `Dense(activation=\"relu\", units=16, kernel_initializer=\"uniform\")`\n",
      "  \n",
      "D:\\ProgramData\\Anaconda3\\lib\\site-packages\\ipykernel_launcher.py:4: UserWarning: Update your `Dropout` call to the Keras 2 API: `Dropout(rate=0.1)`\n",
      "  after removing the cwd from sys.path.\n"
     ]
    }
   ],
   "source": [
    "# Adding the second hidden layer\n",
    "classifier.add(Dense(output_dim=16, init='uniform', activation='relu'))\n",
    "# Adding dropout to prevent overfitting\n",
    "classifier.add(Dropout(p=0.1))"
   ]
  },
  {
   "cell_type": "code",
   "execution_count": 7,
   "metadata": {
    "_cell_guid": "628b8221-c76b-40bd-b5b9-b5aff04cbf31",
    "_uuid": "ed51c97f1ea1a10af8bee99604de076b92cb2627"
   },
   "outputs": [
    {
     "name": "stderr",
     "output_type": "stream",
     "text": [
      "D:\\ProgramData\\Anaconda3\\lib\\site-packages\\ipykernel_launcher.py:2: UserWarning: Update your `Dense` call to the Keras 2 API: `Dense(activation=\"sigmoid\", units=1, kernel_initializer=\"uniform\")`\n",
      "  \n"
     ]
    }
   ],
   "source": [
    "# Adding the output layer\n",
    "classifier.add(Dense(output_dim=1, init='uniform', activation='sigmoid'))"
   ]
  },
  {
   "cell_type": "markdown",
   "metadata": {
    "_cell_guid": "8f80ed07-4a4a-48a4-aa84-b53fc713c61b",
    "_uuid": "71c445f1e371d37d28f4ff405b45d5497ea8bdde"
   },
   "source": [
    "output_dim is 1 as we want only 1 output from the final layer.\n",
    "\n",
    "Sigmoid function is used when dealing with classfication problems with 2 types of results.(Submax function is used for 3 or more classification results)\n",
    "<img src=\"https://cdn-images-1.medium.com/max/1000/1*Xu7B5y9gp0iL5ooBj7LtWw.png\">"
   ]
  },
  {
   "cell_type": "code",
   "execution_count": 8,
   "metadata": {
    "_cell_guid": "9fc5ca11-edd6-4ddd-92b0-c5b6866abbec",
    "_uuid": "01ff691f323d264792730ae9d3af72a1e9106271"
   },
   "outputs": [
    {
     "name": "stderr",
     "output_type": "stream",
     "text": [
      "WARNING: Logging before flag parsing goes to stderr.\n",
      "W1020 16:25:12.027266  7828 deprecation.py:323] From D:\\ProgramData\\Anaconda3\\lib\\site-packages\\tensorflow\\python\\ops\\nn_impl.py:180: add_dispatch_support.<locals>.wrapper (from tensorflow.python.ops.array_ops) is deprecated and will be removed in a future version.\n",
      "Instructions for updating:\n",
      "Use tf.where in 2.0, which has the same broadcast rule as np.where\n"
     ]
    }
   ],
   "source": [
    "# Compiling the ANN\n",
    "from keras.optimizers import Adam\n",
    "adam = Adam(lr=0.01)\n",
    "classifier.compile(optimizer=adam, loss='binary_crossentropy', metrics=['accuracy'])"
   ]
  },
  {
   "cell_type": "markdown",
   "metadata": {
    "_cell_guid": "6375e2f2-5cf5-42e4-a199-338dbc34a07a",
    "_uuid": "d198bbf1616b2bcd99d138f24559d0eff2a07d01"
   },
   "source": [
    "Optimizer is chosen as adam for gradient descent.\n",
    "\n",
    "Binary_crossentropy is the loss function used. \n",
    "\n",
    "Cross-entropy loss, or log loss, measures the performance of a classification model whose output is a probability value between 0 and 1. Cross-entropy loss increases as the predicted probability diverges from the actual label. So predicting a probability of .012 when the actual observation label is 1 would be bad and result in a high loss value. A perfect model would have a log loss of 0. [More about this](http://ml-cheatsheet.readthedocs.io/en/latest/loss_functions.html)"
   ]
  },
  {
   "cell_type": "code",
   "execution_count": 9,
   "metadata": {
    "_cell_guid": "deb09534-714c-4fd2-bac5-d5dff9c474ef",
    "_uuid": "6e2d2d3f17102bc9c4e8f093c914c58412b28ee3",
    "scrolled": true
   },
   "outputs": [
    {
     "name": "stderr",
     "output_type": "stream",
     "text": [
      "W1020 16:25:20.024796  7828 deprecation_wrapper.py:119] From D:\\ProgramData\\Anaconda3\\lib\\site-packages\\keras\\backend\\tensorflow_backend.py:422: The name tf.global_variables is deprecated. Please use tf.compat.v1.global_variables instead.\n",
      "\n"
     ]
    },
    {
     "name": "stdout",
     "output_type": "stream",
     "text": [
      "Epoch 1/150\n",
      "512/512 [==============================] - 1s 1ms/step - loss: 0.6803 - accuracy: 0.6387\n",
      "Epoch 2/150\n",
      "512/512 [==============================] - 0s 62us/step - loss: 0.5414 - accuracy: 0.9258\n",
      "Epoch 3/150\n",
      "512/512 [==============================] - 0s 58us/step - loss: 0.2672 - accuracy: 0.9551\n",
      "Epoch 4/150\n",
      "512/512 [==============================] - 0s 58us/step - loss: 0.1390 - accuracy: 0.9609\n",
      "Epoch 5/150\n",
      "512/512 [==============================] - 0s 58us/step - loss: 0.1032 - accuracy: 0.9707\n",
      "Epoch 6/150\n",
      "512/512 [==============================] - 0s 62us/step - loss: 0.0784 - accuracy: 0.9746\n",
      "Epoch 7/150\n",
      "512/512 [==============================] - 0s 57us/step - loss: 0.0767 - accuracy: 0.9785\n",
      "Epoch 8/150\n",
      "512/512 [==============================] - 0s 58us/step - loss: 0.0694 - accuracy: 0.9785\n",
      "Epoch 9/150\n",
      "512/512 [==============================] - 0s 55us/step - loss: 0.0675 - accuracy: 0.9766\n",
      "Epoch 10/150\n",
      "512/512 [==============================] - 0s 55us/step - loss: 0.0637 - accuracy: 0.9863\n",
      "Epoch 11/150\n",
      "512/512 [==============================] - 0s 58us/step - loss: 0.0636 - accuracy: 0.9844\n",
      "Epoch 12/150\n",
      "512/512 [==============================] - 0s 56us/step - loss: 0.0545 - accuracy: 0.9863\n",
      "Epoch 13/150\n",
      "512/512 [==============================] - 0s 49us/step - loss: 0.0560 - accuracy: 0.9863\n",
      "Epoch 14/150\n",
      "512/512 [==============================] - 0s 49us/step - loss: 0.0546 - accuracy: 0.9863\n",
      "Epoch 15/150\n",
      "512/512 [==============================] - 0s 53us/step - loss: 0.0525 - accuracy: 0.9863\n",
      "Epoch 16/150\n",
      "512/512 [==============================] - 0s 51us/step - loss: 0.0477 - accuracy: 0.9863\n",
      "Epoch 17/150\n",
      "512/512 [==============================] - 0s 47us/step - loss: 0.0457 - accuracy: 0.9863\n",
      "Epoch 18/150\n",
      "512/512 [==============================] - 0s 51us/step - loss: 0.0463 - accuracy: 0.9883\n",
      "Epoch 19/150\n",
      "512/512 [==============================] - 0s 49us/step - loss: 0.0495 - accuracy: 0.9844\n",
      "Epoch 20/150\n",
      "512/512 [==============================] - 0s 49us/step - loss: 0.0465 - accuracy: 0.9883\n",
      "Epoch 21/150\n",
      "512/512 [==============================] - 0s 53us/step - loss: 0.0497 - accuracy: 0.9844\n",
      "Epoch 22/150\n",
      "512/512 [==============================] - 0s 51us/step - loss: 0.0450 - accuracy: 0.9863\n",
      "Epoch 23/150\n",
      "512/512 [==============================] - 0s 45us/step - loss: 0.0449 - accuracy: 0.9863\n",
      "Epoch 24/150\n",
      "512/512 [==============================] - 0s 45us/step - loss: 0.0388 - accuracy: 0.9922\n",
      "Epoch 25/150\n",
      "512/512 [==============================] - 0s 49us/step - loss: 0.0371 - accuracy: 0.9902\n",
      "Epoch 26/150\n",
      "512/512 [==============================] - 0s 45us/step - loss: 0.0394 - accuracy: 0.9922\n",
      "Epoch 27/150\n",
      "512/512 [==============================] - 0s 51us/step - loss: 0.0525 - accuracy: 0.9844\n",
      "Epoch 28/150\n",
      "512/512 [==============================] - 0s 51us/step - loss: 0.0448 - accuracy: 0.9883\n",
      "Epoch 29/150\n",
      "512/512 [==============================] - 0s 43us/step - loss: 0.0426 - accuracy: 0.9844\n",
      "Epoch 30/150\n",
      "512/512 [==============================] - 0s 47us/step - loss: 0.0369 - accuracy: 0.9902\n",
      "Epoch 31/150\n",
      "512/512 [==============================] - 0s 47us/step - loss: 0.0334 - accuracy: 0.9902\n",
      "Epoch 32/150\n",
      "512/512 [==============================] - 0s 49us/step - loss: 0.0313 - accuracy: 0.9922\n",
      "Epoch 33/150\n",
      "512/512 [==============================] - 0s 45us/step - loss: 0.0289 - accuracy: 0.9922\n",
      "Epoch 34/150\n",
      "512/512 [==============================] - 0s 49us/step - loss: 0.0331 - accuracy: 0.9863\n",
      "Epoch 35/150\n",
      "512/512 [==============================] - 0s 47us/step - loss: 0.0319 - accuracy: 0.9902\n",
      "Epoch 36/150\n",
      "512/512 [==============================] - 0s 49us/step - loss: 0.0302 - accuracy: 0.9902\n",
      "Epoch 37/150\n",
      "512/512 [==============================] - 0s 53us/step - loss: 0.0297 - accuracy: 0.9902\n",
      "Epoch 38/150\n",
      "512/512 [==============================] - 0s 43us/step - loss: 0.0353 - accuracy: 0.9863\n",
      "Epoch 39/150\n",
      "512/512 [==============================] - 0s 53us/step - loss: 0.0353 - accuracy: 0.9902\n",
      "Epoch 40/150\n",
      "512/512 [==============================] - 0s 49us/step - loss: 0.0298 - accuracy: 0.9922\n",
      "Epoch 41/150\n",
      "512/512 [==============================] - 0s 49us/step - loss: 0.0420 - accuracy: 0.9883\n",
      "Epoch 42/150\n",
      "512/512 [==============================] - 0s 47us/step - loss: 0.0333 - accuracy: 0.9844\n",
      "Epoch 43/150\n",
      "512/512 [==============================] - 0s 45us/step - loss: 0.0327 - accuracy: 0.9902\n",
      "Epoch 44/150\n",
      "512/512 [==============================] - 0s 43us/step - loss: 0.0287 - accuracy: 0.9902\n",
      "Epoch 45/150\n",
      "512/512 [==============================] - 0s 55us/step - loss: 0.0343 - accuracy: 0.9902\n",
      "Epoch 46/150\n",
      "512/512 [==============================] - 0s 55us/step - loss: 0.0269 - accuracy: 0.9902\n",
      "Epoch 47/150\n",
      "512/512 [==============================] - 0s 51us/step - loss: 0.0255 - accuracy: 0.9902\n",
      "Epoch 48/150\n",
      "512/512 [==============================] - 0s 47us/step - loss: 0.0223 - accuracy: 0.9922\n",
      "Epoch 49/150\n",
      "512/512 [==============================] - 0s 49us/step - loss: 0.0235 - accuracy: 0.9922\n",
      "Epoch 50/150\n",
      "512/512 [==============================] - 0s 51us/step - loss: 0.0252 - accuracy: 0.9922\n",
      "Epoch 51/150\n",
      "512/512 [==============================] - 0s 51us/step - loss: 0.0234 - accuracy: 0.9902\n",
      "Epoch 52/150\n",
      "512/512 [==============================] - 0s 47us/step - loss: 0.0202 - accuracy: 0.9922\n",
      "Epoch 53/150\n",
      "512/512 [==============================] - 0s 55us/step - loss: 0.0418 - accuracy: 0.9883\n",
      "Epoch 54/150\n",
      "512/512 [==============================] - 0s 47us/step - loss: 0.0224 - accuracy: 0.9922\n",
      "Epoch 55/150\n",
      "512/512 [==============================] - 0s 47us/step - loss: 0.0232 - accuracy: 0.9902\n",
      "Epoch 56/150\n",
      "512/512 [==============================] - 0s 49us/step - loss: 0.0246 - accuracy: 0.9902\n",
      "Epoch 57/150\n",
      "512/512 [==============================] - 0s 53us/step - loss: 0.0221 - accuracy: 0.9922\n",
      "Epoch 58/150\n",
      "512/512 [==============================] - 0s 51us/step - loss: 0.0174 - accuracy: 0.9922\n",
      "Epoch 59/150\n",
      "512/512 [==============================] - 0s 47us/step - loss: 0.0222 - accuracy: 0.9902\n",
      "Epoch 60/150\n",
      "512/512 [==============================] - 0s 55us/step - loss: 0.0182 - accuracy: 0.9922\n",
      "Epoch 61/150\n",
      "512/512 [==============================] - 0s 47us/step - loss: 0.0206 - accuracy: 0.9922\n",
      "Epoch 62/150\n",
      "512/512 [==============================] - 0s 53us/step - loss: 0.0155 - accuracy: 0.9922\n",
      "Epoch 63/150\n",
      "512/512 [==============================] - 0s 51us/step - loss: 0.0164 - accuracy: 0.9902\n",
      "Epoch 64/150\n",
      "512/512 [==============================] - 0s 53us/step - loss: 0.0192 - accuracy: 0.9883\n",
      "Epoch 65/150\n",
      "512/512 [==============================] - 0s 47us/step - loss: 0.0209 - accuracy: 0.9883\n",
      "Epoch 66/150\n",
      "512/512 [==============================] - 0s 49us/step - loss: 0.0128 - accuracy: 0.9961\n",
      "Epoch 67/150\n",
      "512/512 [==============================] - 0s 51us/step - loss: 0.0114 - accuracy: 0.9961\n",
      "Epoch 68/150\n",
      "512/512 [==============================] - 0s 53us/step - loss: 0.0105 - accuracy: 0.9961\n",
      "Epoch 69/150\n",
      "512/512 [==============================] - 0s 55us/step - loss: 0.0110 - accuracy: 0.9961\n",
      "Epoch 70/150\n",
      "512/512 [==============================] - 0s 53us/step - loss: 0.0099 - accuracy: 0.9980\n",
      "Epoch 71/150\n",
      "512/512 [==============================] - 0s 49us/step - loss: 0.0075 - accuracy: 1.0000\n",
      "Epoch 72/150\n",
      "512/512 [==============================] - 0s 47us/step - loss: 0.0080 - accuracy: 0.9980\n",
      "Epoch 73/150\n",
      "512/512 [==============================] - 0s 51us/step - loss: 0.0082 - accuracy: 1.0000\n",
      "Epoch 74/150\n",
      "512/512 [==============================] - 0s 53us/step - loss: 0.0112 - accuracy: 0.9941\n",
      "Epoch 75/150\n",
      "512/512 [==============================] - 0s 49us/step - loss: 0.0191 - accuracy: 0.9922\n",
      "Epoch 76/150\n",
      "512/512 [==============================] - 0s 55us/step - loss: 0.0241 - accuracy: 0.9863\n",
      "Epoch 77/150\n",
      "512/512 [==============================] - 0s 51us/step - loss: 0.0125 - accuracy: 0.9941\n",
      "Epoch 78/150\n",
      "512/512 [==============================] - 0s 49us/step - loss: 0.0155 - accuracy: 0.9922\n",
      "Epoch 79/150\n",
      "512/512 [==============================] - 0s 55us/step - loss: 0.0089 - accuracy: 0.9980\n",
      "Epoch 80/150\n",
      "512/512 [==============================] - 0s 56us/step - loss: 0.0110 - accuracy: 1.0000\n",
      "Epoch 81/150\n",
      "512/512 [==============================] - 0s 55us/step - loss: 0.0135 - accuracy: 0.9961\n",
      "Epoch 82/150\n",
      "512/512 [==============================] - 0s 55us/step - loss: 0.0158 - accuracy: 0.9980\n",
      "Epoch 83/150\n",
      "512/512 [==============================] - 0s 49us/step - loss: 0.0194 - accuracy: 0.9941\n",
      "Epoch 84/150\n",
      "512/512 [==============================] - 0s 49us/step - loss: 0.0483 - accuracy: 0.9883\n",
      "Epoch 85/150\n",
      "512/512 [==============================] - 0s 53us/step - loss: 0.0122 - accuracy: 0.9980\n",
      "Epoch 86/150\n",
      "512/512 [==============================] - 0s 56us/step - loss: 0.0149 - accuracy: 0.9941\n",
      "Epoch 87/150\n",
      "512/512 [==============================] - 0s 49us/step - loss: 0.0450 - accuracy: 0.9844\n",
      "Epoch 88/150\n",
      "512/512 [==============================] - 0s 55us/step - loss: 0.0284 - accuracy: 0.9844\n",
      "Epoch 89/150\n",
      "512/512 [==============================] - 0s 51us/step - loss: 0.0324 - accuracy: 0.9863\n",
      "Epoch 90/150\n",
      "512/512 [==============================] - 0s 47us/step - loss: 0.0376 - accuracy: 0.9883\n",
      "Epoch 91/150\n",
      "512/512 [==============================] - 0s 45us/step - loss: 0.0245 - accuracy: 0.9922\n",
      "Epoch 92/150\n",
      "512/512 [==============================] - 0s 51us/step - loss: 0.0303 - accuracy: 0.9863\n",
      "Epoch 93/150\n",
      "512/512 [==============================] - 0s 49us/step - loss: 0.0226 - accuracy: 0.9883\n",
      "Epoch 94/150\n",
      "512/512 [==============================] - 0s 47us/step - loss: 0.0205 - accuracy: 0.9922\n",
      "Epoch 95/150\n",
      "512/512 [==============================] - 0s 51us/step - loss: 0.0373 - accuracy: 0.9902\n",
      "Epoch 96/150\n",
      "512/512 [==============================] - 0s 47us/step - loss: 0.0141 - accuracy: 0.9941\n",
      "Epoch 97/150\n",
      "512/512 [==============================] - 0s 49us/step - loss: 0.0145 - accuracy: 0.9902\n",
      "Epoch 98/150\n",
      "512/512 [==============================] - 0s 47us/step - loss: 0.0200 - accuracy: 0.9883\n",
      "Epoch 99/150\n",
      "512/512 [==============================] - 0s 47us/step - loss: 0.0156 - accuracy: 0.9922\n",
      "Epoch 100/150\n",
      "512/512 [==============================] - 0s 55us/step - loss: 0.0111 - accuracy: 0.9961\n",
      "Epoch 101/150\n",
      "512/512 [==============================] - 0s 53us/step - loss: 0.0117 - accuracy: 0.9941\n",
      "Epoch 102/150\n",
      "512/512 [==============================] - 0s 49us/step - loss: 0.0196 - accuracy: 0.9961\n",
      "Epoch 103/150\n",
      "512/512 [==============================] - 0s 55us/step - loss: 0.0112 - accuracy: 0.9941\n",
      "Epoch 104/150\n",
      "512/512 [==============================] - 0s 47us/step - loss: 0.0076 - accuracy: 0.9980\n",
      "Epoch 105/150\n",
      "512/512 [==============================] - 0s 47us/step - loss: 0.0115 - accuracy: 0.9961\n",
      "Epoch 106/150\n",
      "512/512 [==============================] - 0s 45us/step - loss: 0.0104 - accuracy: 0.9961\n",
      "Epoch 107/150\n",
      "512/512 [==============================] - 0s 55us/step - loss: 0.0155 - accuracy: 0.9980\n",
      "Epoch 108/150\n",
      "512/512 [==============================] - 0s 45us/step - loss: 0.0428 - accuracy: 0.9902\n",
      "Epoch 109/150\n",
      "512/512 [==============================] - 0s 49us/step - loss: 0.0266 - accuracy: 0.9941\n",
      "Epoch 110/150\n",
      "512/512 [==============================] - 0s 49us/step - loss: 0.0173 - accuracy: 0.9980\n",
      "Epoch 111/150\n",
      "512/512 [==============================] - 0s 45us/step - loss: 0.0197 - accuracy: 0.9961\n",
      "Epoch 112/150\n",
      "512/512 [==============================] - 0s 45us/step - loss: 0.0149 - accuracy: 0.9941\n",
      "Epoch 113/150\n",
      "512/512 [==============================] - 0s 51us/step - loss: 0.0134 - accuracy: 0.9941\n",
      "Epoch 114/150\n",
      "512/512 [==============================] - 0s 45us/step - loss: 0.0108 - accuracy: 0.9980\n",
      "Epoch 115/150\n",
      "512/512 [==============================] - 0s 47us/step - loss: 0.0107 - accuracy: 0.9961\n",
      "Epoch 116/150\n",
      "512/512 [==============================] - 0s 47us/step - loss: 0.0097 - accuracy: 0.9961\n",
      "Epoch 117/150\n",
      "512/512 [==============================] - 0s 49us/step - loss: 0.0085 - accuracy: 1.0000\n",
      "Epoch 118/150\n",
      "512/512 [==============================] - 0s 47us/step - loss: 0.0121 - accuracy: 0.9980\n",
      "Epoch 119/150\n",
      "512/512 [==============================] - 0s 47us/step - loss: 0.0113 - accuracy: 0.9980\n",
      "Epoch 120/150\n",
      "512/512 [==============================] - 0s 45us/step - loss: 0.0136 - accuracy: 0.9961\n",
      "Epoch 121/150\n",
      "512/512 [==============================] - 0s 53us/step - loss: 0.0135 - accuracy: 0.9961\n",
      "Epoch 122/150\n",
      "512/512 [==============================] - 0s 43us/step - loss: 0.0128 - accuracy: 0.9961\n",
      "Epoch 123/150\n",
      "512/512 [==============================] - 0s 45us/step - loss: 0.0100 - accuracy: 1.0000\n",
      "Epoch 124/150\n",
      "512/512 [==============================] - 0s 49us/step - loss: 0.0126 - accuracy: 0.9961\n",
      "Epoch 125/150\n",
      "512/512 [==============================] - 0s 45us/step - loss: 0.0068 - accuracy: 1.0000\n",
      "Epoch 126/150\n",
      "512/512 [==============================] - 0s 43us/step - loss: 0.0077 - accuracy: 0.9961\n",
      "Epoch 127/150\n",
      "512/512 [==============================] - 0s 58us/step - loss: 0.0103 - accuracy: 0.9961\n",
      "Epoch 128/150\n",
      "512/512 [==============================] - 0s 47us/step - loss: 0.0087 - accuracy: 0.9980\n",
      "Epoch 129/150\n",
      "512/512 [==============================] - 0s 51us/step - loss: 0.0061 - accuracy: 1.0000\n",
      "Epoch 130/150\n",
      "512/512 [==============================] - 0s 49us/step - loss: 0.0055 - accuracy: 0.9980\n",
      "Epoch 131/150\n",
      "512/512 [==============================] - 0s 56us/step - loss: 0.0048 - accuracy: 1.0000\n",
      "Epoch 132/150\n",
      "512/512 [==============================] - 0s 51us/step - loss: 0.0070 - accuracy: 0.9980\n",
      "Epoch 133/150\n",
      "512/512 [==============================] - 0s 51us/step - loss: 0.0043 - accuracy: 1.0000\n",
      "Epoch 134/150\n",
      "512/512 [==============================] - 0s 53us/step - loss: 0.0038 - accuracy: 1.0000\n",
      "Epoch 135/150\n",
      "512/512 [==============================] - 0s 45us/step - loss: 0.0143 - accuracy: 0.9961\n",
      "Epoch 136/150\n",
      "512/512 [==============================] - 0s 45us/step - loss: 0.0331 - accuracy: 0.9961\n",
      "Epoch 137/150\n",
      "512/512 [==============================] - 0s 55us/step - loss: 0.0129 - accuracy: 0.9922\n",
      "Epoch 138/150\n",
      "512/512 [==============================] - 0s 47us/step - loss: 0.0199 - accuracy: 0.9961\n",
      "Epoch 139/150\n",
      "512/512 [==============================] - 0s 49us/step - loss: 0.0118 - accuracy: 0.9941\n",
      "Epoch 140/150\n",
      "512/512 [==============================] - 0s 49us/step - loss: 0.0116 - accuracy: 0.9961\n",
      "Epoch 141/150\n",
      "512/512 [==============================] - 0s 47us/step - loss: 0.0162 - accuracy: 0.9941\n",
      "Epoch 142/150\n",
      "512/512 [==============================] - 0s 47us/step - loss: 0.0210 - accuracy: 0.9961\n",
      "Epoch 143/150\n",
      "512/512 [==============================] - 0s 51us/step - loss: 0.0046 - accuracy: 1.0000\n",
      "Epoch 144/150\n",
      "512/512 [==============================] - 0s 49us/step - loss: 0.0105 - accuracy: 0.9980\n",
      "Epoch 145/150\n",
      "512/512 [==============================] - 0s 47us/step - loss: 0.0046 - accuracy: 1.0000\n",
      "Epoch 146/150\n",
      "512/512 [==============================] - 0s 49us/step - loss: 0.0039 - accuracy: 1.0000\n",
      "Epoch 147/150\n",
      "512/512 [==============================] - 0s 51us/step - loss: 0.0035 - accuracy: 1.0000\n",
      "Epoch 148/150\n",
      "512/512 [==============================] - 0s 47us/step - loss: 0.0039 - accuracy: 1.0000\n",
      "Epoch 149/150\n",
      "512/512 [==============================] - 0s 45us/step - loss: 0.0078 - accuracy: 0.9961\n",
      "Epoch 150/150\n",
      "512/512 [==============================] - 0s 53us/step - loss: 0.0121 - accuracy: 0.9961\n"
     ]
    },
    {
     "data": {
      "text/plain": [
       "<keras.callbacks.callbacks.History at 0x251742f17f0>"
      ]
     },
     "execution_count": 9,
     "metadata": {},
     "output_type": "execute_result"
    }
   ],
   "source": [
    "# Fitting the ANN to the Training set\n",
    "classifier.fit(X_train, y_train, batch_size=100, epochs=150)\n",
    "# Long scroll ahead but worth\n",
    "# The batch size and number of epochs have been set using trial and error. Still looking for more efficient ways. Open to suggestions. "
   ]
  },
  {
   "cell_type": "markdown",
   "metadata": {
    "_cell_guid": "91cb842e-c693-4ddc-938e-b25dd5fd8d64",
    "_uuid": "e700dd6d93bfc99f1fb10a1914c33764df95b79f"
   },
   "source": [
    "Batch size defines number of samples that going to be propagated through the network.\n",
    "\n",
    "An Epoch is a complete pass through all the training data."
   ]
  },
  {
   "cell_type": "code",
   "execution_count": 10,
   "metadata": {
    "_cell_guid": "cc405d00-4e8c-4882-8251-d83d4b269895",
    "_uuid": "2a668b12248656821e4797a95ed0a878a63d8ee1"
   },
   "outputs": [],
   "source": [
    "# Predicting the Test set results\n",
    "y_pred = classifier.predict(X_test)\n",
    "y_pred = (y_pred > 0.5)"
   ]
  },
  {
   "cell_type": "code",
   "execution_count": 11,
   "metadata": {
    "_cell_guid": "22c127bd-8608-4d8e-909b-4b90b7e24fee",
    "_uuid": "b4c8343b16d7022ccb77f8e64f46e96ac5fbe41c"
   },
   "outputs": [],
   "source": [
    "# Making the Confusion Matrix\n",
    "from sklearn.metrics import confusion_matrix\n",
    "cm = confusion_matrix(y_test, y_pred)"
   ]
  },
  {
   "cell_type": "code",
   "execution_count": 12,
   "metadata": {
    "_cell_guid": "2d631e23-de49-42ff-94e3-528f4131e97e",
    "_uuid": "5ed1db854bfc4bc4fb49782e7adcaaf25fe9d41e"
   },
   "outputs": [
    {
     "name": "stdout",
     "output_type": "stream",
     "text": [
      "Our accuracy is 98.24561403508771%\n"
     ]
    }
   ],
   "source": [
    "print(\"Our accuracy is {}%\".format(((cm[0][0] + cm[1][1])/57)*100))"
   ]
  },
  {
   "cell_type": "code",
   "execution_count": 13,
   "metadata": {
    "_uuid": "837036fec6bd2c2ee831bd3232804b001e472678"
   },
   "outputs": [
    {
     "data": {
      "image/png": "[encoded data removed]",
      "text/plain": [
       "<Figure size 432x288 with 2 Axes>"
      ]
     },
     "metadata": {
      "needs_background": "light"
     },
     "output_type": "display_data"
    }
   ],
   "source": [
    "sns.heatmap(cm,annot=True)\n",
    "plt.savefig('h.png')"
   ]
  },
  {
   "cell_type": "markdown",
   "metadata": {
    "_cell_guid": "b9ec3bc5-b073-45e5-aefc-a521c4dc9502",
    "_uuid": "68225ba8a764c54a035a068bf3852f6a084819e0",
    "collapsed": true
   },
   "source": [
    "Thanks for reading this. May this help you on your \"deep\" journey into machine learning."
   ]
  }
 ],
 "metadata": {
  "kernelspec": {
   "display_name": "Python 3",
   "language": "python",
   "name": "python3"
  },
  "language_info": {
   "codemirror_mode": {
    "name": "ipython",
    "version": 3
   },
   "file_extension": ".py",
   "mimetype": "text/x-python",
   "name": "python",
   "nbconvert_exporter": "python",
   "pygments_lexer": "ipython3",
   "version": "3.6.8"
  }
 },
 "nbformat": 4,
 "nbformat_minor": 1
}
